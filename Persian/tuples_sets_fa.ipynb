{
 "cells": [
  {
   "cell_type": "markdown",
   "metadata": {},
   "source": [
    "# تاپل‌ها و مجموعه‌ها\n",
    "\n",
    "* تاپل‌ها:\n",
    "    - تاپل یک مجموعه مرتب و غیرقابل تغییر از عناصر است.\n",
    "    - عناصر در داخل پرانتز ( ) قرار می‌گیرند.\n",
    "    - مثال: (1، 2، 3)\n",
    "    - تاپل‌ها برای نمایش داده‌های ثابت مناسب هستند.\n",
    "\n",
    "* مجموعه‌ها:\n",
    "    - مجموعه یک مجموعه بدون ترتیب از عناصر منحصر به فرد است.\n",
    "    - عناصر در داخل آکولادها { } قرار می‌گیرند.\n",
    "    - مثال: {1، 2، 3}\n",
    "    - مجموعه‌ها برای تست عضویت و حذف تکرارها مناسب هستند."
   ]
  },
  {
   "cell_type": "code",
   "execution_count": 1,
   "metadata": {},
   "outputs": [
    {
     "name": "stdout",
     "output_type": "stream",
     "text": [
      "['Apple', 123, 'Apple', '🍔', True, 11.2564, None]\n",
      "<class 'list'>\n",
      "7\n",
      "---------------------------------------\n",
      "{True, 'Apple', 123, '🍔', 11.2564, None}\n",
      "<class 'set'>\n",
      "6\n",
      "---------------------------------------\n",
      "('Apple', 123, 'Apple', '🍔', True, 11.2564, None)\n",
      "<class 'tuple'>\n",
      "7\n"
     ]
    }
   ],
   "source": [
    "dataset_1 = [\"Apple\", 123, \"Apple\", \"🍔\", True, 11.2564, None]\n",
    "dataset_2 = {\"Apple\", 123, \"Apple\", \"🍔\", True, 11.2564, None}\n",
    "dataset_3 = (\"Apple\", 123, \"Apple\", \"🍔\", True, 11.2564, None)\n",
    "print(dataset_1)\n",
    "print(type(dataset_1))\n",
    "print(len(dataset_1))\n",
    "print(\"---------------------------------------\")\n",
    "print(dataset_2)\n",
    "print(type(dataset_2))\n",
    "print(len(dataset_2))\n",
    "print(\"---------------------------------------\")\n",
    "print(dataset_3)\n",
    "print(type(dataset_3))\n",
    "print(len(dataset_3))"
   ]
  },
  {
   "cell_type": "markdown",
   "metadata": {},
   "source": [
    "### تفاوت‌های لیست‌ها، تاپل‌ها و مجموعه‌ها\n",
    "\n",
    "* لیست‌ها:\n",
    "    - لیست‌ها مرتب و قابل تغییر هستند.\n",
    "    - عناصر در داخل کروشه‌های مربعی [ ] قرار می‌گیرند.\n",
    "    - مثال: [1، 2، 3]\n",
    "    - لیست‌ها اجازه دارند که عناصر تکراری داشته باشند.\n",
    "* تاپل‌ها:\n",
    "    - تاپل‌ها مرتب و غیرقابل تغییر هستند.\n",
    "    - عناصر در داخل پرانتز ( ) قرار می‌گیرند.\n",
    "    - مثال: (1، 2، 3)\n",
    "    - تاپل‌ها معمولاً برای داده‌های ثابت استفاده می‌شوند.\n",
    "* مجموعه‌ها:\n",
    "    - مجموعه‌ها بدون ترتیب و قابل تغییر هستند.\n",
    "    - عناصر در داخل آکولادها { } قرار می‌گیرند.\n",
    "    - مثال: {1، 2، 3}\n",
    "    - مجموعه‌ها به طور خودکار عناصر تکراری را حذف می‌کنند."
   ]
  },
  {
   "cell_type": "markdown",
   "metadata": {},
   "source": [
    "### Sets"
   ]
  },
  {
   "cell_type": "code",
   "execution_count": 8,
   "metadata": {},
   "outputs": [
    {
     "name": "stdout",
     "output_type": "stream",
     "text": [
      "Before:  {123, '🍔', 11.2564, 'Banana', None}\n",
      "123\n",
      "🍔\n",
      "11.2564\n",
      "Banana\n",
      "None\n"
     ]
    }
   ],
   "source": [
    "# print(\"Before: \", dataset_2)\n",
    "# print(dataset_2.count(\"Apple\"))\n",
    "# print(dataset_2)\n",
    "\n",
    "# print(\"Before: \", dataset_2)\n",
    "# print(dataset_2.index(\"Apple\"))\n",
    "# print(dataset_2)\n",
    "\n",
    "# print(\"Before: \", dataset_2)\n",
    "# dataset_2.add(\"Banana\")\n",
    "# print(dataset_2)\n",
    "\n",
    "# print(\"Before: \", dataset_2)\n",
    "# dataset_2.remove(\"Apple\")\n",
    "# print(dataset_2)\n",
    "\n",
    "# print(\"Before: \", dataset_2)\n",
    "# dataset_2.pop()\n",
    "# print(dataset_2)\n",
    "\n",
    "# print(\"Before: \", dataset_2)\n",
    "# item_1, item_2, *other, item_l = dataset_2\n",
    "# print(item_1)\n",
    "# print(item_2)\n",
    "# print(item_l)\n",
    "\n",
    "# print(\"Before: \", dataset_2)\n",
    "# for item in dataset_2:\n",
    "#     print(item)"
   ]
  },
  {
   "cell_type": "markdown",
   "metadata": {},
   "source": [
    "### Tuples"
   ]
  },
  {
   "cell_type": "code",
   "execution_count": 15,
   "metadata": {},
   "outputs": [
    {
     "name": "stdout",
     "output_type": "stream",
     "text": [
      "Before:  ('Apple', 123, 'Apple', '🍔', True, 11.2564, None)\n",
      "Apple\n",
      "123\n",
      "Apple\n",
      "🍔\n",
      "True\n",
      "11.2564\n",
      "None\n"
     ]
    }
   ],
   "source": [
    "# print(\"Before: \", dataset_3)\n",
    "# print(dataset_3.count(\"Apple\"))\n",
    "# print(dataset_3)\n",
    "\n",
    "# print(\"Before: \", dataset_3)\n",
    "# print(dataset_3.index(\"Apple\"))\n",
    "# print(dataset_3)\n",
    "\n",
    "# print(\"Before: \", dataset_3)\n",
    "# dataset_3.add(\"Banana\")\n",
    "# print(dataset_3)\n",
    "\n",
    "# print(\"Before: \", dataset_3)\n",
    "# dataset_3.remove(\"Apple\")\n",
    "# print(dataset_3)\n",
    "\n",
    "# print(\"Before: \", dataset_3)\n",
    "# dataset_3.pop()\n",
    "# print(dataset_3)\n",
    "\n",
    "# print(\"Before: \", dataset_3)\n",
    "# item_1, item_2, *other, item_l = dataset_3\n",
    "# print(item_1)\n",
    "# print(item_2)\n",
    "# print(item_l)\n",
    "\n",
    "# print(\"Before: \", dataset_3)\n",
    "# for item in dataset_3:\n",
    "#     print(item)"
   ]
  },
  {
   "cell_type": "code",
   "execution_count": 21,
   "metadata": {},
   "outputs": [
    {
     "data": {
      "text/plain": [
       "True"
      ]
     },
     "execution_count": 21,
     "metadata": {},
     "output_type": "execute_result"
    }
   ],
   "source": [
    "'Apple' in dataset_1"
   ]
  },
  {
   "cell_type": "code",
   "execution_count": null,
   "metadata": {},
   "outputs": [],
   "source": []
  }
 ],
 "metadata": {
  "kernelspec": {
   "display_name": "Golden Scenario Env",
   "language": "python",
   "name": "golden_scenario_env"
  },
  "language_info": {
   "codemirror_mode": {
    "name": "ipython",
    "version": 3
   },
   "file_extension": ".py",
   "mimetype": "text/x-python",
   "name": "python",
   "nbconvert_exporter": "python",
   "pygments_lexer": "ipython3",
   "version": "3.11.5"
  }
 },
 "nbformat": 4,
 "nbformat_minor": 2
}
