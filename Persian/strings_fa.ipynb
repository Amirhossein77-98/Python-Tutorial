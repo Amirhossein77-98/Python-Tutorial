{
 "cells": [
  {
   "cell_type": "markdown",
   "metadata": {},
   "source": [
    "# Strings"
   ]
  },
  {
   "cell_type": "code",
   "execution_count": 1,
   "metadata": {},
   "outputs": [
    {
     "name": "stdout",
     "output_type": "stream",
     "text": [
      "Hello Skillseekers\n"
     ]
    },
    {
     "data": {
      "text/plain": [
       "str"
      ]
     },
     "execution_count": 1,
     "metadata": {},
     "output_type": "execute_result"
    }
   ],
   "source": [
    "hello = \"Hello Skillseekers\"\n",
    "print(hello)\n",
    "type(hello)"
   ]
  },
  {
   "cell_type": "markdown",
   "metadata": {},
   "source": [
    "## Scape Sequences"
   ]
  },
  {
   "cell_type": "code",
   "execution_count": 6,
   "metadata": {},
   "outputs": [
    {
     "name": "stdout",
     "output_type": "stream",
     "text": [
      "This is a channel for skill seekers\n",
      "This is a channel for \"skill seekers\"\n",
      "This is a channel for \"skill seekers\"\n",
      "This is a channel for \n",
      "\"skill seekers\"\n"
     ]
    }
   ],
   "source": [
    "hi = \"This is a channel for \"\"skill seekers\"\n",
    "print(hi)\n",
    "\n",
    "hi = 'This is a channel for \"skill seekers\"'\n",
    "print(hi)\n",
    "\n",
    "hi = \"This is a channel for \\\"skill seekers\\\"\"\n",
    "print(hi)\n",
    "\n",
    "hi = \"This is a channel for \\n\\\"skill seekers\\\"\"\n",
    "print(hi)"
   ]
  },
  {
   "cell_type": "markdown",
   "metadata": {},
   "source": [
    "## FString"
   ]
  },
  {
   "cell_type": "code",
   "execution_count": 12,
   "metadata": {},
   "outputs": [
    {
     "name": "stdout",
     "output_type": "stream",
     "text": [
      "My name is Amir Hossein\n"
     ]
    }
   ],
   "source": [
    "name = \"Amir\"\n",
    "middle = \"Hossein\"\n",
    "\n",
    "print(f\"My name is {name} {middle}\")"
   ]
  },
  {
   "cell_type": "markdown",
   "metadata": {},
   "source": [
    "## Slicing"
   ]
  },
  {
   "cell_type": "code",
   "execution_count": 19,
   "metadata": {},
   "outputs": [
    {
     "name": "stdout",
     "output_type": "stream",
     "text": [
      "Hell\n",
      "Hello\n",
      "Hello Skillseekers\n",
      "Skillseekers\n",
      "Ski\n"
     ]
    }
   ],
   "source": [
    "print(hello[0:4])\n",
    "print(hello[:5])\n",
    "print(hello[:])\n",
    "print(hello[6:])\n",
    "print(hello[6:9])"
   ]
  },
  {
   "cell_type": "markdown",
   "metadata": {},
   "source": [
    "## Concat & Multiply"
   ]
  },
  {
   "cell_type": "code",
   "execution_count": 11,
   "metadata": {},
   "outputs": [
    {
     "name": "stdout",
     "output_type": "stream",
     "text": [
      "amir\n",
      "hossein\n",
      "amirhossein\n",
      "amirhossein\n",
      "amir hossein\n",
      "amiramiramir\n"
     ]
    }
   ],
   "source": [
    "name = \"Amir\"\n",
    "middle = \"Hossein\"\n",
    "\n",
    "print(name + ' ' +middle)\n",
    "\n",
    "print(name * 3)\n",
    "\n",
    "print(name)\n",
    "print(middle)\n",
    "\n",
    "print(name, end='')\n",
    "print(middle)\n",
    "\n",
    "print(name + middle)\n",
    "\n"
   ]
  },
  {
   "cell_type": "markdown",
   "metadata": {},
   "source": [
    "## Methods"
   ]
  },
  {
   "cell_type": "code",
   "execution_count": 20,
   "metadata": {},
   "outputs": [
    {
     "name": "stdout",
     "output_type": "stream",
     "text": [
      "THIS IS A CHANNEL FOR \n",
      "\"SKILL SEEKERS\"\n",
      "this is a channel for \n",
      "\"skill seekers\"\n",
      "This is a channel for \n",
      "\"skill seekers\"\n"
     ]
    }
   ],
   "source": [
    "print(hi.upper())\n",
    "\n",
    "print(hi.lower())\n",
    "\n",
    "print(hi.strip())"
   ]
  },
  {
   "cell_type": "code",
   "execution_count": null,
   "metadata": {},
   "outputs": [],
   "source": []
  }
 ],
 "metadata": {
  "kernelspec": {
   "display_name": "Golden Scenario Env",
   "language": "python",
   "name": "golden_scenario_env"
  },
  "language_info": {
   "codemirror_mode": {
    "name": "ipython",
    "version": 3
   },
   "file_extension": ".py",
   "mimetype": "text/x-python",
   "name": "python",
   "nbconvert_exporter": "python",
   "pygments_lexer": "ipython3",
   "version": "3.11.5"
  }
 },
 "nbformat": 4,
 "nbformat_minor": 2
}
