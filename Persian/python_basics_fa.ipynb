{
 "cells": [
  {
   "cell_type": "markdown",
   "metadata": {},
   "source": [
    "# ✳️ مفاهیم پایه پایتون برای شروع"
   ]
  },
  {
   "cell_type": "markdown",
   "metadata": {},
   "source": [
    "### 💠نصب پایتون"
   ]
  },
  {
   "cell_type": "markdown",
   "metadata": {},
   "source": [
    "اگر از سیستم مک یا لینوکس استفاده می‌کنید، احتمالاً پایتون از پیش نصب شده است. اگر نیاز به نصب دستی دارید، مراحل زیر را دنبال کنید:\n",
    "\n",
    "دانلود پایتون: به وب‌سایت رسمی پایتون بروید و آخرین نسخه پایتون ۳ را دانلود کنید.\n",
    "\n",
    "نصب: فایل نصب را اجرا کنید و دستورات نصب را دنبال کنید. حتماً در طی نصب، گزینه “اضافه کردن پایتون به مسیر سیستم” را انتخاب کنید."
   ]
  },
  {
   "cell_type": "markdown",
   "metadata": {},
   "source": [
    "### 💠ویرایشگر کد"
   ]
  },
  {
   "cell_type": "markdown",
   "metadata": {},
   "source": [
    "VS Code یک ویرایشگر کد محبوب است که پشتیبانی عالی از توسعه‌ی پایتون دارد. برای شروع:\n",
    "\n",
    "دانلود VS Code: اگر هنوز ندارید، Visual Studio Code را دانلود و نصب کنید.\n",
    "\n",
    "افزونه‌ها: افزونه “Python” را از بازار افزونه‌های VS Code نصب کنید. این افزونه امکاناتی مانند بررسی خطاها، اشکال‌زدایی و اینتلی‌سنس برای پایتون را فراهم می‌کند."
   ]
  },
  {
   "cell_type": "markdown",
   "metadata": {},
   "source": [
    "### 💠پسوند فایل‌های پایتون"
   ]
  },
  {
   "cell_type": "markdown",
   "metadata": {},
   "source": [
    "فایل‌های پایتون معمولاً دارای پسوند .py هستند. هنگام ذخیره کد پایتون، حتماً از این پسوند استفاده کنید."
   ]
  },
  {
   "cell_type": "markdown",
   "metadata": {},
   "source": [
    "### 💠قواعد نام‌گذاری در پایتون"
   ]
  },
  {
   "cell_type": "markdown",
   "metadata": {},
   "source": [
    "برای نوشتن کد پایتون خوانا و قابل فهم، از قواعد نام‌گذاری زیر پیروی کنید:\n",
    "\n",
    "نام‌های متغیر: از حروف کوچک و زیرخط (snake_case) استفاده کنید. به عنوان مثال: my_variable.\n",
    "\n",
    "نام‌های تابع: نیز از حروف کوچک و زیرخط استفاده کنید. به عنوان مثال: calculate_average.\n",
    "\n",
    "نام‌های کلاس: از CamelCase (شروع هر کلمه با حرف بزرگ) استفاده کنید. به عنوان مثال: MyClass."
   ]
  },
  {
   "cell_type": "markdown",
   "metadata": {},
   "source": [
    "### 💠اجرای کد پایتون"
   ]
  },
  {
   "cell_type": "markdown",
   "metadata": {},
   "source": [
    "شما می‌توانید کد پایتون را به دو روش اجرا کنید:\n",
    "\n",
    "استفاده از VS Code:\n",
    "- یک فایل .py را در VS Code باز کنید.\n",
    "- دکمه “اجرای فایل پایتون در ترمینال” را کلیک کنید (معمولاً در گوشه‌ی بالا و راست قرار دارد).\n",
    "- به عنوان جایگزین، از میانبر Ctrl + F5 برای اجرای فایل فعلی استفاده کنید\n",
    "\n",
    "2. استفاده از خط فرمان:\n",
    "- ترمینال یا خط فرمان خود را باز کنید\n",
    "- به مسیری که فایل پایتونی شما در آن قرار دارد بروید.\n",
    "- دستور ***python filename.py*** را وارد کنید, filename.py نام فایل پایتونی شماست."
   ]
  },
  {
   "cell_type": "markdown",
   "metadata": {},
   "source": [
    "## ✴️دستوران پایه پایتون که باید بلد باشید\n",
    "این دستورات ضروری پایتون را به خاطر بسپارید:"
   ]
  },
  {
   "cell_type": "markdown",
   "metadata": {},
   "source": [
    "### 💠Print\n",
    "متن را در محیط کنسول نمایش میدهد."
   ]
  },
  {
   "cell_type": "code",
   "execution_count": null,
   "metadata": {},
   "outputs": [],
   "source": [
    "print(\"Hello World!\")\n",
    "print(2354)\n",
    "print(True)"
   ]
  },
  {
   "cell_type": "markdown",
   "metadata": {},
   "source": [
    "### 💠Input\n",
    "از کاربر ورودی میگیرد."
   ]
  },
  {
   "cell_type": "code",
   "execution_count": null,
   "metadata": {},
   "outputs": [],
   "source": [
    "user_input = input(\"What is your name? \")\n",
    "print(f\"Hello {user_input}!\")"
   ]
  },
  {
   "cell_type": "markdown",
   "metadata": {},
   "source": [
    "### 💠Type\n",
    "نوع داده یک متغیر را برمیگرداند."
   ]
  },
  {
   "cell_type": "code",
   "execution_count": null,
   "metadata": {},
   "outputs": [],
   "source": [
    "type(user_input)\n",
    "type(254)\n",
    "type(False)"
   ]
  },
  {
   "cell_type": "markdown",
   "metadata": {},
   "source": [
    "# پایان"
   ]
  }
 ],
 "metadata": {
  "kernelspec": {
   "display_name": "Golden Scenario Env",
   "language": "python",
   "name": "golden_scenario_env"
  },
  "language_info": {
   "name": "python",
   "version": "3.11.5"
  }
 },
 "nbformat": 4,
 "nbformat_minor": 2
}
