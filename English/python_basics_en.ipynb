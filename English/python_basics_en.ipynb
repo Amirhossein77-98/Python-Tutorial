{
 "cells": [
  {
   "cell_type": "markdown",
   "metadata": {},
   "source": [
    "# ✳️ Python Starter Basics"
   ]
  },
  {
   "cell_type": "markdown",
   "metadata": {},
   "source": [
    "### 💠Installing Python"
   ]
  },
  {
   "cell_type": "markdown",
   "metadata": {},
   "source": [
    "If you’re using a Mac or Linux system, chances are you already have Python installed. However, if you need to install it manually, follow these steps:\n",
    "\n",
    "**1. Download Python:** Visit the official Python website and download the latest version of Python 3.\n",
    "\n",
    "**2. Installation:** Run the installer and follow the installation instructions. Make sure to add Python to your system’s PATH during installation."
   ]
  },
  {
   "cell_type": "markdown",
   "metadata": {},
   "source": [
    "### 💠Code Editor"
   ]
  },
  {
   "cell_type": "markdown",
   "metadata": {},
   "source": [
    "VS Code is a popular code editor that provides excellent support for Python development. Here’s how to get started:\n",
    "\n",
    "**1. Download VS Code:** If you haven’t already, download and install Visual Studio Code.\n",
    "\n",
    "**2. Extensions:** Install the “Python” extension from the VS Code marketplace. This extension provides features like code linting, debugging, and IntelliSense for Python."
   ]
  },
  {
   "cell_type": "markdown",
   "metadata": {},
   "source": [
    "### 💠Python File Extension"
   ]
  },
  {
   "cell_type": "markdown",
   "metadata": {},
   "source": [
    "Python files typically have the **.py** extension. When you save your Python code, make sure to use this extension."
   ]
  },
  {
   "cell_type": "markdown",
   "metadata": {},
   "source": [
    "### 💠Python Naming Convention"
   ]
  },
  {
   "cell_type": "markdown",
   "metadata": {},
   "source": [
    "Follow these naming conventions to write clean and readable Python code:\n",
    "\n",
    "- **Variable Names:** Use lowercase letters and underscores (snake_case). For example: ***my_variable***.\n",
    "- **Function Names:** Also use lowercase letters and underscores. For example: ***calculate_average***.\n",
    "- **Class Names:** Use CamelCase (capitalize each word). For example: ***MyClass***."
   ]
  },
  {
   "cell_type": "markdown",
   "metadata": {},
   "source": [
    "### 💠Running Python Codes"
   ]
  },
  {
   "cell_type": "markdown",
   "metadata": {},
   "source": [
    "You can run Python code in two ways:\n",
    "\n",
    "1. Using VS Code:\n",
    "- Open a .py file in VS Code.\n",
    "- Click the “Run Python File in Terminal” button (usually located in the top-right corner).\n",
    "- Alternatively, use the shortcut ***Ctrl + F5*** to run the current file.\n",
    "2. Command Line:\n",
    "- Open your terminal/command prompt.\n",
    "- Navigate to the directory containing your Python file.\n",
    "- Run ***python filename.py***, where filename.py is the name of your Python file."
   ]
  },
  {
   "cell_type": "markdown",
   "metadata": {},
   "source": [
    "## ✴️Python Basic Commands to Remember\n",
    "Remember these essential Python commands:"
   ]
  },
  {
   "cell_type": "markdown",
   "metadata": {},
   "source": [
    "### 💠Print\n",
    "Displays text in the console."
   ]
  },
  {
   "cell_type": "code",
   "execution_count": 1,
   "metadata": {},
   "outputs": [
    {
     "name": "stdout",
     "output_type": "stream",
     "text": [
      "Hello World!\n",
      "2354\n",
      "True\n"
     ]
    }
   ],
   "source": [
    "print(\"Hello World!\")\n",
    "print(2354)\n",
    "print(True)"
   ]
  },
  {
   "cell_type": "markdown",
   "metadata": {},
   "source": [
    "### 💠Input\n",
    "Takes user input."
   ]
  },
  {
   "cell_type": "code",
   "execution_count": 3,
   "metadata": {},
   "outputs": [
    {
     "name": "stdout",
     "output_type": "stream",
     "text": [
      "Hello Amir!\n"
     ]
    }
   ],
   "source": [
    "user_input = input(\"What is your name? \")\n",
    "print(f\"Hello {user_input}!\")"
   ]
  },
  {
   "cell_type": "markdown",
   "metadata": {},
   "source": [
    "### 💠Type\n",
    "Returns the data type of a variable."
   ]
  },
  {
   "cell_type": "code",
   "execution_count": 6,
   "metadata": {},
   "outputs": [
    {
     "data": {
      "text/plain": [
       "str"
      ]
     },
     "execution_count": 6,
     "metadata": {},
     "output_type": "execute_result"
    }
   ],
   "source": [
    "type(user_input)"
   ]
  },
  {
   "cell_type": "markdown",
   "metadata": {},
   "source": [
    "# THE END"
   ]
  }
 ],
 "metadata": {
  "kernelspec": {
   "display_name": "Golden Scenario Env",
   "language": "python",
   "name": "golden_scenario_env"
  },
  "language_info": {
   "codemirror_mode": {
    "name": "ipython",
    "version": 3
   },
   "file_extension": ".py",
   "mimetype": "text/x-python",
   "name": "python",
   "nbconvert_exporter": "python",
   "pygments_lexer": "ipython3",
   "version": "3.11.5"
  }
 },
 "nbformat": 4,
 "nbformat_minor": 2
}
