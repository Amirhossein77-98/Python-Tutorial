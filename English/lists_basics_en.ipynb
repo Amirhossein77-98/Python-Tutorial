{
 "cells": [
  {
   "cell_type": "markdown",
   "metadata": {},
   "source": [
    "# ✳️List Definition:\n",
    "\n",
    "> In Python, a list is a built-in data type that is used to store a collection of items within a single variable. Lists are created using square brackets and can contain items of any data type, including strings, integers, and booleans. They are ordered, changeable, and allow duplicate values. Here’s a brief overview of their properties:\n",
    "\n",
    "**- Ordered:** The items in a list have a defined order that will not change unless explicitly commanded.\n",
    "\n",
    "**- Changeable:** You can change, add, and remove items in a list after it has been created.\n",
    "\n",
    "**- Allow Duplicates:** Lists can have multiple items with the same value.\n",
    "\n",
    "-> Here’s an example of a Python list: <i>mylist = [\"apple\", \"banana\", \"cherry\", \"apple\", \"cherry\"]</i>\n",
    "\n",
    "You can access list items by referring to the index number, with the first item at index 0. Python also supports negative indexing, where -1 refers to the last item, -2 to the second-last, and so on."
   ]
  },
  {
   "cell_type": "code",
   "execution_count": 77,
   "metadata": {},
   "outputs": [
    {
     "name": "stdout",
     "output_type": "stream",
     "text": [
      "[1, 2, 3, 9, 4, 6, 7]\n",
      "['Amir', 'Reza', 'Hossein', 'Mooz', 'Soda']\n",
      "[[1, 'A', True, 2.5, []], [1, 2, 3, 4, 5]]\n",
      "['1', 1, True, False, 2.5, [], (5, 6)]\n"
     ]
    },
    {
     "data": {
      "text/plain": [
       "list"
      ]
     },
     "execution_count": 77,
     "metadata": {},
     "output_type": "execute_result"
    }
   ],
   "source": [
    "list_1 = [1, 2, 3, 9, 4, 6, 7]\n",
    "print(list_1)\n",
    "type(list_1)\n",
    "\n",
    "list_2 = [\"Amir\", \"Reza\", \"Hossein\", \"Mooz\", \"Soda\"]\n",
    "print(list_2)\n",
    "type(list_2)\n",
    "\n",
    "list_3 = [[1, \"A\", True, 2.5, []], [1, 2, 3, 4, 5]]\n",
    "print(list_3)\n",
    "type(list_3)\n",
    "\n",
    "list_4 = [\"1\", 1, True, False, 2.5, [], (5, 6)]\n",
    "print(list_4)\n",
    "type(list_4)"
   ]
  },
  {
   "cell_type": "markdown",
   "metadata": {},
   "source": [
    "### ✴️ list() Function:"
   ]
  },
  {
   "cell_type": "code",
   "execution_count": 63,
   "metadata": {},
   "outputs": [
    {
     "name": "stdout",
     "output_type": "stream",
     "text": [
      "[1, 2, 3, 4, 5, 6, 7, 8, 9, 10, 11, 12, 13, 14, 15, 16, 17, 18, 19, 20, 21, 22, 23, 24, 25, 26, 27, 28, 29, 30, 31, 32, 33, 34, 35, 36, 37, 38, 39, 40, 41, 42, 43, 44, 45, 46, 47, 48, 49, 50, 51, 52, 53, 54, 55, 56, 57, 58, 59, 60, 61, 62, 63, 64, 65, 66, 67, 68, 69, 70, 71, 72, 73, 74, 75, 76, 77, 78, 79, 80, 81, 82, 83, 84, 85, 86, 87, 88, 89, 90, 91, 92, 93, 94, 95, 96, 97, 98, 99, 100]\n",
      "['A', 'm', 'i', 'r']\n"
     ]
    }
   ],
   "source": [
    "numbers = list(range(1, 101))\n",
    "print(numbers)\n",
    "\n",
    "chars = list(\"Amir\")\n",
    "print(chars)"
   ]
  },
  {
   "cell_type": "markdown",
   "metadata": {},
   "source": [
    "### ✴️ Indexing:"
   ]
  },
  {
   "cell_type": "code",
   "execution_count": 70,
   "metadata": {},
   "outputs": [
    {
     "name": "stdout",
     "output_type": "stream",
     "text": [
      "m\n",
      "['m', 'i']\n",
      "[2, 4, 6, 8, 10, 12, 14, 16, 18, 20, 22, 24, 26, 28, 30, 32, 34, 36, 38, 40, 42, 44, 46, 48, 50, 52, 54, 56, 58, 60, 62, 64, 66, 68, 70, 72, 74, 76, 78, 80, 82, 84, 86, 88, 90, 92, 94, 96, 98, 100]\n"
     ]
    }
   ],
   "source": [
    "print(chars[1])\n",
    "type(chars[1])\n",
    "\n",
    "print(chars[1:3])\n",
    "\n",
    "print(numbers[1::2])"
   ]
  },
  {
   "cell_type": "markdown",
   "metadata": {},
   "source": [
    "##### ➖ Negative Indexing:"
   ]
  },
  {
   "cell_type": "code",
   "execution_count": 74,
   "metadata": {},
   "outputs": [
    {
     "name": "stdout",
     "output_type": "stream",
     "text": [
      "r\n",
      "100\n"
     ]
    }
   ],
   "source": [
    "print(chars[3])\n",
    "\n",
    "print(numbers[-1])"
   ]
  },
  {
   "cell_type": "markdown",
   "metadata": {},
   "source": [
    "### ✴️ List Unpacking:"
   ]
  },
  {
   "cell_type": "code",
   "execution_count": 82,
   "metadata": {},
   "outputs": [
    {
     "name": "stdout",
     "output_type": "stream",
     "text": [
      "['Amir', 'Reza', 'Hossein', 'Mooz', 'Soda']\n",
      "Amir\n",
      "Reza\n",
      "Soda\n",
      "['Hossein', 'Mooz']\n"
     ]
    }
   ],
   "source": [
    "first, second, *other, last = list_2\n",
    "\n",
    "print(list_2)\n",
    "print(first)\n",
    "print(second)\n",
    "print(last)\n",
    "print(other)"
   ]
  },
  {
   "cell_type": "markdown",
   "metadata": {},
   "source": [
    "### ✴️ Math Operations:"
   ]
  },
  {
   "cell_type": "code",
   "execution_count": 84,
   "metadata": {},
   "outputs": [
    {
     "name": "stdout",
     "output_type": "stream",
     "text": [
      "[1, 2, 3, 9, 4, 6, 7, 'Amir', 'Reza', 'Hossein', 'Mooz', 'Soda']\n",
      "['Amir', 'Reza', 'Hossein', 'Mooz', 'Soda', 'Amir', 'Reza', 'Hossein', 'Mooz', 'Soda']\n"
     ]
    }
   ],
   "source": [
    "result = list_1 + list_2\n",
    "print(result)\n",
    "\n",
    "javab = list_2 * 2\n",
    "print(javab)"
   ]
  },
  {
   "cell_type": "markdown",
   "metadata": {},
   "source": [
    "### ✴️ Methods:"
   ]
  },
  {
   "cell_type": "markdown",
   "metadata": {},
   "source": [
    "##### ➖ Addition:"
   ]
  },
  {
   "cell_type": "code",
   "execution_count": 87,
   "metadata": {},
   "outputs": [
    {
     "name": "stdout",
     "output_type": "stream",
     "text": [
      "[1, 2, 3, 4, 5]\n",
      "[1, 2, 3, 4, 5, 6]\n",
      "[1, 2, 3, 4, 5, 6]\n",
      "[1, 2, 'A', 3, 4, 5, 6]\n"
     ]
    }
   ],
   "source": [
    "list_5 = [1, 2, 3, 4, 5]\n",
    "print(list_5)\n",
    "list_5.append(6)\n",
    "print(list_5)\n",
    "\n",
    "print(list_5)\n",
    "list_5.insert(2, \"A\")\n",
    "print(list_5)"
   ]
  },
  {
   "cell_type": "markdown",
   "metadata": {},
   "source": [
    "##### ➖ Deletion:"
   ]
  },
  {
   "cell_type": "code",
   "execution_count": 92,
   "metadata": {},
   "outputs": [
    {
     "name": "stdout",
     "output_type": "stream",
     "text": [
      "[1, 2, 3, 'Amir', 4, 5]\n",
      "[]\n"
     ]
    }
   ],
   "source": [
    "list_5 = [1, 2, 3, \"Amir\", 4, 5]\n",
    "# print(list_5)\n",
    "# list_5.pop(2)\n",
    "# print(list_5)\n",
    "\n",
    "# print(list_5)\n",
    "# list_5.remove(\"Amir\")\n",
    "# print(list_5)\n",
    "\n",
    "# print(list_5)\n",
    "# del list_5[2:4]\n",
    "# print(list_5)\n",
    "\n",
    "print(list_5)\n",
    "list_5.clear()\n",
    "print(list_5)"
   ]
  },
  {
   "cell_type": "markdown",
   "metadata": {},
   "source": [
    "##### ➖ Other:"
   ]
  },
  {
   "cell_type": "code",
   "execution_count": 95,
   "metadata": {},
   "outputs": [
    {
     "data": {
      "text/plain": [
       "2"
      ]
     },
     "execution_count": 95,
     "metadata": {},
     "output_type": "execute_result"
    }
   ],
   "source": [
    "list_5 = [1, \"Amir\", 2, 3, \"Amir\", 4, 5]\n",
    "list_5.count(\"Amir\")"
   ]
  },
  {
   "cell_type": "markdown",
   "metadata": {},
   "source": [
    "### ✴️ Looping:"
   ]
  },
  {
   "cell_type": "code",
   "execution_count": 97,
   "metadata": {},
   "outputs": [
    {
     "name": "stdout",
     "output_type": "stream",
     "text": [
      "0 1\n",
      "1 Amir\n",
      "2 2\n",
      "3 3\n",
      "4 Amir\n",
      "5 4\n",
      "6 5\n"
     ]
    }
   ],
   "source": [
    "for index, item in enumerate(list_5):\n",
    "    print(index, item)"
   ]
  },
  {
   "cell_type": "markdown",
   "metadata": {},
   "source": [
    "### ✴️ List Comprehension:"
   ]
  },
  {
   "cell_type": "code",
   "execution_count": null,
   "metadata": {},
   "outputs": [],
   "source": []
  }
 ],
 "metadata": {
  "kernelspec": {
   "display_name": "Golden Scenario Env",
   "language": "python",
   "name": "golden_scenario_env"
  },
  "language_info": {
   "codemirror_mode": {
    "name": "ipython",
    "version": 3
   },
   "file_extension": ".py",
   "mimetype": "text/x-python",
   "name": "python",
   "nbconvert_exporter": "python",
   "pygments_lexer": "ipython3",
   "version": "3.11.5"
  }
 },
 "nbformat": 4,
 "nbformat_minor": 2
}
