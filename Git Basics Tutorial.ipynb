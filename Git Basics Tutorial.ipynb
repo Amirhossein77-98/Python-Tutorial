{
 "cells": [
  {
   "cell_type": "markdown",
   "metadata": {},
   "source": [
    "# ~Git Basics~"
   ]
  },
  {
   "cell_type": "markdown",
   "metadata": {},
   "source": [
    "### *Introduction\n",
    "> Git is a distributed version control system that is used to track changes in computer files and coordinate work on those files among multiple people. It’s primarily used for source code management in software development, and it allows for multiple versions of a project to be distributed across various repositories\n",
    "\n",
    "> Git and Github are not the same!!!\n",
    "\n",
    "> Github is a hosting service for Git repositories. It provides a web-based graphical interface and includes additional features such as bug tracking, task management, and project wikis."
   ]
  },
  {
   "cell_type": "markdown",
   "metadata": {},
   "source": [
    "### *How to Install Git:\n",
    "##### > Windows:\n",
    "- Navigate to the Git for Windows installer and download the latest version: https://git-scm.com/downloads\n",
    "- Run the installer and follow the instructions provided in the Git Setup wizard.\n",
    "- After installation, verify by typing git version in the command prompt or Git Bash1.\n",
    "##### > macOS:\n",
    "- Most macOS versions come with Git pre-installed. Verify by running git version in the terminal.\n",
    "- If not installed, download the latest macOS Git Installer and follow the instructions.\n",
    "- Alternatively, use Homebrew with brew install git in the terminal1.\n",
    "##### > Linux:\n",
    "- For Debian-based systems like Ubuntu, use sudo apt install git-all.\n",
    "- For RPM-based systems like Fedora, use sudo dnf install git-all.\n",
    "- There are also options for installing from source if you need the latest version2."
   ]
  },
  {
   "cell_type": "markdown",
   "metadata": {},
   "source": [
    "### *First Config Commands:\n",
    "- git config --global user.name \"Your Name\"\n",
    "- git config --global user.email \"your_email@example.com\"\n",
    "* git config --global init.defaultBranch main"
   ]
  },
  {
   "cell_type": "markdown",
   "metadata": {},
   "source": [
    "### *Most Used Commands:\n",
    "- <b>git init:</b> Initializes a new local repository on your system.\n",
    "- <b>git status:</b> Displays the state of the working directory and the staging area.\n",
    "- <b>git add:</b> Adds changes in the working directory to the staging area.\n",
    "- <b>git commit:</b> Records changes to the repository with a descriptive message.\n",
    "- <b>git log:</b> Displays committed snapshots, allowing you to see the project history.\n",
    "- <b>git push:</b> Updates the remote repository with commits made locally.\n",
    "- <b>git clone:</b> Creates a copy of an existing repository into a new directory.\n",
    "- <b>git branch:</b> Lists, creates, or deletes branches.\n",
    "- <b>git checkout:</b> Switches branches or restores working tree files.\n",
    "- <b>git pull:</b> Fetches changes from the remote repository and merges them into the current branch."
   ]
  },
  {
   "cell_type": "markdown",
   "metadata": {},
   "source": [
    "### *Test Program!"
   ]
  },
  {
   "cell_type": "code",
   "execution_count": null,
   "metadata": {},
   "outputs": [],
   "source": [
    "print(\"Hello Skillseekers!, How are you?, Have a good time.\")\n",
    "inp = input(\"Enter your name: \")"
   ]
  }
 ],
 "metadata": {
  "kernelspec": {
   "display_name": "Golden Scenario Env",
   "language": "python",
   "name": "golden_scenario_env"
  },
  "language_info": {
   "codemirror_mode": {
    "name": "ipython",
    "version": 3
   },
   "file_extension": ".py",
   "mimetype": "text/x-python",
   "name": "python",
   "nbconvert_exporter": "python",
   "pygments_lexer": "ipython3",
   "version": "3.11.5"
  }
 },
 "nbformat": 4,
 "nbformat_minor": 2
}
