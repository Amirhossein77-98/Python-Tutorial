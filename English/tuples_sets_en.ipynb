{
 "cells": [
  {
   "cell_type": "markdown",
   "metadata": {},
   "source": [
    "# Tuples & Sets\n",
    "\n",
    "* Tuples:\n",
    "    - A tuple is an ordered, immutable collection of elements.\n",
    "    - Elements are enclosed in parentheses ( ).\n",
    "    - Example: (1, 2, 3)\n",
    "    - Tuples are useful for representing fixed data sequences.\n",
    "\n",
    "* Sets:\n",
    "    - A set is an unordered collection of unique elements.\n",
    "    - Elements are enclosed in curly braces { }.\n",
    "    - Example: {1, 2, 3}\n",
    "    - Sets are useful for membership testing and removing duplicates."
   ]
  },
  {
   "cell_type": "code",
   "execution_count": 1,
   "metadata": {},
   "outputs": [
    {
     "name": "stdout",
     "output_type": "stream",
     "text": [
      "['Apple', 123, 'Apple', '🍔', True, 11.2564, None]\n",
      "<class 'list'>\n",
      "7\n",
      "---------------------------------------\n",
      "{'🍔', True, 'Apple', 123, 11.2564, None}\n",
      "<class 'set'>\n",
      "6\n",
      "---------------------------------------\n",
      "('Apple', 123, 'Apple', '🍔', True, 11.2564, None)\n",
      "<class 'tuple'>\n",
      "7\n"
     ]
    }
   ],
   "source": [
    "dataset_1 = [\"Apple\", 123, \"Apple\", \"🍔\", True, 11.2564, None]\n",
    "dataset_2 = {\"Apple\", 123, \"Apple\", \"🍔\", True, 11.2564, None}\n",
    "dataset_3 = (\"Apple\", 123, \"Apple\", \"🍔\", True, 11.2564, None)\n",
    "print(dataset_1)\n",
    "print(type(dataset_1))\n",
    "print(len(dataset_1))\n",
    "print(\"---------------------------------------\")\n",
    "print(dataset_2)\n",
    "print(type(dataset_2))\n",
    "print(len(dataset_2))\n",
    "print(\"---------------------------------------\")\n",
    "print(dataset_3)\n",
    "print(type(dataset_3))\n",
    "print(len(dataset_3))"
   ]
  },
  {
   "cell_type": "markdown",
   "metadata": {},
   "source": [
    "### Lists, Tuples & Sets Differences\n",
    "\n",
    "* Lists:\n",
    "    - Lists are ordered and mutable (you can change their contents).\n",
    "    - Elements are enclosed in square brackets [ ].\n",
    "    - Example: [1, 2, 3]\n",
    "    - Lists allow duplicate elements.\n",
    "* Tuples:\n",
    "    - Tuples are ordered and immutable (you cannot modify them after creation).\n",
    "    - Elements are enclosed in parentheses ( ).\n",
    "    - Example: (1, 2, 3)\n",
    "    - Tuples are typically used for fixed data.\n",
    "* Sets:\n",
    "    - Sets are unordered and mutable.\n",
    "    - Elements are enclosed in curly braces { }.\n",
    "    - Example: {1, 2, 3}\n",
    "    - Sets automatically remove duplicates."
   ]
  },
  {
   "cell_type": "markdown",
   "metadata": {},
   "source": [
    "### Sets"
   ]
  },
  {
   "cell_type": "code",
   "execution_count": 8,
   "metadata": {},
   "outputs": [
    {
     "name": "stdout",
     "output_type": "stream",
     "text": [
      "Before:  {True, 'Banana', 123, 11.2564, None}\n",
      "True\n",
      "Banana\n",
      "123\n",
      "11.2564\n",
      "None\n"
     ]
    }
   ],
   "source": [
    "# print(\"Before: \", dataset_2)\n",
    "# print(dataset_2.count(\"Apple\"))\n",
    "# print(dataset_2)\n",
    "\n",
    "# print(\"Before: \", dataset_2)\n",
    "# print(dataset_2.index(\"Apple\"))\n",
    "# print(dataset_2)\n",
    "\n",
    "# print(\"Before: \", dataset_2)\n",
    "# dataset_2.add(\"Banana\")\n",
    "# print(dataset_2)\n",
    "\n",
    "# print(\"Before: \", dataset_2)\n",
    "# dataset_2.remove(\"Apple\")\n",
    "# print(dataset_2)\n",
    "\n",
    "# print(\"Before: \", dataset_2)\n",
    "# dataset_2.pop()\n",
    "# print(dataset_2)\n",
    "\n",
    "# print(\"Before: \", dataset_2)\n",
    "# item_1, item_2, *other, item_l = dataset_2\n",
    "# print(item_1)\n",
    "# print(item_2)\n",
    "# print(item_l)\n",
    "\n",
    "# print(\"Before: \", dataset_2)\n",
    "# for item in dataset_2:\n",
    "#     print(item)"
   ]
  },
  {
   "cell_type": "markdown",
   "metadata": {},
   "source": [
    "### Tuples"
   ]
  },
  {
   "cell_type": "code",
   "execution_count": 15,
   "metadata": {},
   "outputs": [
    {
     "name": "stdout",
     "output_type": "stream",
     "text": [
      "Before:  ('Apple', 123, 'Apple', '🍔', True, 11.2564, None)\n",
      "Apple\n",
      "123\n",
      "Apple\n",
      "🍔\n",
      "True\n",
      "11.2564\n",
      "None\n"
     ]
    }
   ],
   "source": [
    "# print(\"Before: \", dataset_3)\n",
    "# print(dataset_3.count(\"Apple\"))\n",
    "# print(dataset_3)\n",
    "\n",
    "# print(\"Before: \", dataset_3)\n",
    "# print(dataset_3.index(\"Apple\"))\n",
    "# print(dataset_3)\n",
    "\n",
    "# print(\"Before: \", dataset_3)\n",
    "# dataset_3.add(\"Banana\")\n",
    "# print(dataset_3)\n",
    "\n",
    "# print(\"Before: \", dataset_3)\n",
    "# dataset_3.remove(\"Apple\")\n",
    "# print(dataset_3)\n",
    "\n",
    "# print(\"Before: \", dataset_3)\n",
    "# dataset_3.pop()\n",
    "# print(dataset_3)\n",
    "\n",
    "# print(\"Before: \", dataset_3)\n",
    "# item_1, item_2, *other, item_l = dataset_3\n",
    "# print(item_1)\n",
    "# print(item_2)\n",
    "# print(item_l)\n",
    "\n",
    "# print(\"Before: \", dataset_3)\n",
    "# for item in dataset_3:\n",
    "#     print(item)"
   ]
  },
  {
   "cell_type": "markdown",
   "metadata": {},
   "source": [
    "# END"
   ]
  }
 ],
 "metadata": {
  "kernelspec": {
   "display_name": "Golden Scenario Env",
   "language": "python",
   "name": "golden_scenario_env"
  },
  "language_info": {
   "codemirror_mode": {
    "name": "ipython",
    "version": 3
   },
   "file_extension": ".py",
   "mimetype": "text/x-python",
   "name": "python",
   "nbconvert_exporter": "python",
   "pygments_lexer": "ipython3",
   "version": "3.11.5"
  }
 },
 "nbformat": 4,
 "nbformat_minor": 2
}
