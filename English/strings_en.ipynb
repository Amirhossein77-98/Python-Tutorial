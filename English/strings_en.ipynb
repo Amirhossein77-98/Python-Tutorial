{
 "cells": [
  {
   "cell_type": "markdown",
   "metadata": {},
   "source": [
    "# Strings"
   ]
  },
  {
   "cell_type": "code",
   "execution_count": 1,
   "metadata": {},
   "outputs": [
    {
     "name": "stdout",
     "output_type": "stream",
     "text": [
      "skillseekers\n"
     ]
    },
    {
     "data": {
      "text/plain": [
       "str"
      ]
     },
     "execution_count": 1,
     "metadata": {},
     "output_type": "execute_result"
    }
   ],
   "source": [
    "hello = \"skillseekers\"\n",
    "print(hello)\n",
    "type(hello)"
   ]
  },
  {
   "cell_type": "markdown",
   "metadata": {},
   "source": [
    "## Slicing"
   ]
  },
  {
   "cell_type": "code",
   "execution_count": 2,
   "metadata": {},
   "outputs": [
    {
     "name": "stdout",
     "output_type": "stream",
     "text": [
      "skillseekers\n",
      "skill\n",
      "ll\n",
      "skillseekers\n"
     ]
    }
   ],
   "source": [
    "hello = \"skillseekers\"\n",
    "print(hello)\n",
    "type(hello)\n",
    "\n",
    "print(hello[0:5])\n",
    "\n",
    "print(hello[3:5])\n",
    "\n",
    "print(hello[:])"
   ]
  },
  {
   "cell_type": "markdown",
   "metadata": {},
   "source": [
    "## Scape Sequences"
   ]
  },
  {
   "cell_type": "code",
   "execution_count": 3,
   "metadata": {},
   "outputs": [
    {
     "name": "stdout",
     "output_type": "stream",
     "text": [
      "amirs subscribers\n",
      "amirs \"subscribers\"\n",
      "amirs \n",
      "\"subscribers\"\n"
     ]
    }
   ],
   "source": [
    "hi = \"amirs \"\"subscribers\"\n",
    "print(hi)\n",
    "\n",
    "\n",
    "hi = \"amirs \\\"subscribers\\\"\"\n",
    "print(hi)\n",
    "\n",
    "\n",
    "hi = \"amirs \\n\\\"subscribers\\\"\"\n",
    "print(hi)"
   ]
  },
  {
   "cell_type": "markdown",
   "metadata": {},
   "source": [
    "## Concat & Multiply"
   ]
  },
  {
   "cell_type": "code",
   "execution_count": 4,
   "metadata": {},
   "outputs": [
    {
     "name": "stdout",
     "output_type": "stream",
     "text": [
      "amirhossein\n",
      "amir hossein\n",
      "amirhossein\n",
      "amiramiramir\n",
      "amirhossein\n",
      "amir hossein\n",
      "amiramiramir\n"
     ]
    }
   ],
   "source": [
    "name = \"amir\"\n",
    "middle = \"hossein\"\n",
    "print(name + middle)\n",
    "\n",
    "name = \"amir\"\n",
    "middle = \"hossein\"\n",
    "print(name + ' ' + middle)\n",
    "\n",
    "name = \"amir\"\n",
    "middle = \"hossein\"\n",
    "print(name + '' + middle)\n",
    "\n",
    "print(name * 3)\n",
    "\n",
    "name = \"amir\"\n",
    "middle = \"hossein\"\n",
    "print(name + '' + middle)\n",
    "print(f\"{name} {middle}\")\n",
    "\n",
    "print(name * 3)"
   ]
  },
  {
   "cell_type": "markdown",
   "metadata": {},
   "source": [
    "## Methods"
   ]
  },
  {
   "cell_type": "code",
   "execution_count": 6,
   "metadata": {},
   "outputs": [
    {
     "name": "stdout",
     "output_type": "stream",
     "text": [
      "AMIR\n",
      "amir\n",
      "amir\n"
     ]
    }
   ],
   "source": [
    "name = \"amir\"\n",
    "print(name.upper())\n",
    "\n",
    "name = \"amir\"\n",
    "print(name.lower())\n",
    "\n",
    "name = \" amir \"\n",
    "print(name.strip())"
   ]
  },
  {
   "cell_type": "code",
   "execution_count": null,
   "metadata": {},
   "outputs": [],
   "source": []
  }
 ],
 "metadata": {
  "kernelspec": {
   "display_name": "Golden Scenario Env",
   "language": "python",
   "name": "golden_scenario_env"
  },
  "language_info": {
   "codemirror_mode": {
    "name": "ipython",
    "version": 3
   },
   "file_extension": ".py",
   "mimetype": "text/x-python",
   "name": "python",
   "nbconvert_exporter": "python",
   "pygments_lexer": "ipython3",
   "version": "3.11.5"
  }
 },
 "nbformat": 4,
 "nbformat_minor": 2
}
